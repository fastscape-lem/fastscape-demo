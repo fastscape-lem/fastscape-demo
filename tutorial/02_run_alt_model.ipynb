{
 "cells": [
  {
   "cell_type": "markdown",
   "metadata": {},
   "source": [
    "# Run alternative versions of the FastScape landscape evolution model\n",
    "\n",
    "Let's import some packages first (you can install them using ``conda``)."
   ]
  },
  {
   "cell_type": "code",
   "execution_count": null,
   "metadata": {},
   "outputs": [],
   "source": [
    "import numpy as np\n",
    "import xarray as xr\n",
    "import xsimlab as xs\n",
    "import fastscape"
   ]
  },
  {
   "cell_type": "code",
   "execution_count": null,
   "metadata": {},
   "outputs": [],
   "source": [
    "print('xarray-simlab version: ', xs.__version__)\n",
    "print('fastscape version: ', fastscape.__version__)"
   ]
  },
  {
   "cell_type": "markdown",
   "metadata": {},
   "source": [
    "## Generate an alternative model from an existing model\n",
    "\n",
    "Most of the time we don't want to create new models from scratch, but instead just change one or several components. The ``xarray-simlab`` framework allows to do that very easily.\n",
    "\n",
    "Let's first import the basic (standard) model."
   ]
  },
  {
   "cell_type": "code",
   "execution_count": null,
   "metadata": {},
   "outputs": [],
   "source": [
    "from fastscape.models import basic_model\n",
    "\n",
    "basic_model"
   ]
  },
  {
   "cell_type": "markdown",
   "metadata": {},
   "source": [
    "The ``fastscape`` package also contains a bunch of ``xarray-simlab`` components (called processes) that you can reuse to create new models. In the example below, we create a model variant in which we use multiple direction flow routing:  "
   ]
  },
  {
   "cell_type": "code",
   "execution_count": null,
   "metadata": {},
   "outputs": [],
   "source": [
    "from fastscape.processes import MultipleFlowRouter\n",
    "\n",
    "mfd_model = basic_model.update_processes({'flow': MultipleFlowRouter})"
   ]
  },
  {
   "cell_type": "markdown",
   "metadata": {},
   "source": [
    "Compared to ``basic_model``, you can see that ``mfd_model`` as one additional input:"
   ]
  },
  {
   "cell_type": "code",
   "execution_count": null,
   "metadata": {},
   "outputs": [],
   "source": [
    "mfd_model"
   ]
  },
  {
   "cell_type": "code",
   "execution_count": null,
   "metadata": {},
   "outputs": [],
   "source": [
    "mfd_model.visualize(show_inputs=True)"
   ]
  },
  {
   "cell_type": "markdown",
   "metadata": {},
   "source": [
    "It is also possible to drop components. For example, disable diffusion:"
   ]
  },
  {
   "cell_type": "code",
   "execution_count": null,
   "metadata": {},
   "outputs": [],
   "source": [
    "no_diff_model = basic_model.drop_processes('diffusion')\n",
    "\n",
    "no_diff_model"
   ]
  },
  {
   "cell_type": "markdown",
   "metadata": {},
   "source": [
    "Note that ``xarray-simlab`` doesn't allow creating models that break the workflow (graph of components). For example:\n",
    "\n",
    "```python\n",
    "basic_model.drop_processes('flow')\n",
    "```\n",
    "\n",
    "would return a `KeyError` because the `flow` process (i.e., `FlowRouter` class) is referenced by other processes in `basic_model`."
   ]
  },
  {
   "cell_type": "markdown",
   "metadata": {},
   "source": [
    "## Reuse model setups\n",
    "\n",
    "Likewise, most of the time we want to slightly modify an existing setup instead of creating a new setup from srcatch. In this case too, ``xarray-simlab`` allows to easily reuse and tweak model setup, even when using different model variants.\n",
    "\n",
    "Let's import below the setup that we have created in the ``run_basic_model`` notebook:"
   ]
  },
  {
   "cell_type": "code",
   "execution_count": null,
   "metadata": {},
   "outputs": [],
   "source": [
    "in_ds = xr.load_dataset('basic_input.nc')\n",
    "\n",
    "in_ds"
   ]
  },
  {
   "cell_type": "markdown",
   "metadata": {},
   "source": [
    "As the ``xarray-simlab`` API takes and returns ``xarray.Datasets`` objects, a common and tidy worflow is chain operations, like updating the setup and run the model (and do some post-processing). Let's setup and run a simulation using multiple flow routing:"
   ]
  },
  {
   "cell_type": "code",
   "execution_count": null,
   "metadata": {},
   "outputs": [],
   "source": [
    "in_vars = {'flow__slope_exp': 1.5}\n",
    "\n",
    "with mfd_model:\n",
    "    out_ds = (\n",
    "        in_ds.xsimlab.filter_vars()\n",
    "             .xsimlab.update_vars(input_vars=in_vars)\n",
    "             .xsimlab.run()\n",
    "    )\n",
    "    \n",
    "out_ds"
   ]
  },
  {
   "cell_type": "markdown",
   "metadata": {},
   "source": [
    "Let's look at the topography:"
   ]
  },
  {
   "cell_type": "code",
   "execution_count": null,
   "metadata": {},
   "outputs": [],
   "source": [
    "import hvplot.xarray\n",
    "import matplotlib.pyplot as plt\n",
    "\n",
    "out_ds.topography__elevation.hvplot.image(x='x', y='y',\n",
    "                                          cmap=plt.cm.viridis,\n",
    "                                          groupby='out')"
   ]
  },
  {
   "cell_type": "code",
   "execution_count": null,
   "metadata": {},
   "outputs": [],
   "source": []
  }
 ],
 "metadata": {
  "kernelspec": {
   "display_name": "Python [conda env:fastscape-demo]",
   "language": "python",
   "name": "conda-env-fastscape-demo-py"
  },
  "language_info": {
   "codemirror_mode": {
    "name": "ipython",
    "version": 3
   },
   "file_extension": ".py",
   "mimetype": "text/x-python",
   "name": "python",
   "nbconvert_exporter": "python",
   "pygments_lexer": "ipython3",
   "version": "3.8.5"
  }
 },
 "nbformat": 4,
 "nbformat_minor": 4
}
