{
 "cells": [
  {
   "cell_type": "markdown",
   "metadata": {},
   "source": [
    "# Run custom versions of the FastScape landscape evolution model\n",
    "\n",
    "Let's import some packages first (you can install them using ``conda``)."
   ]
  },
  {
   "cell_type": "code",
   "execution_count": null,
   "metadata": {},
   "outputs": [],
   "source": [
    "import numpy as np\n",
    "import xarray as xr\n",
    "import xsimlab as xs\n",
    "import fastscape"
   ]
  },
  {
   "cell_type": "code",
   "execution_count": null,
   "metadata": {},
   "outputs": [],
   "source": [
    "print('xarray-simlab version: ', xs.__version__)\n",
    "print('fastscape version: ', fastscape.__version__)"
   ]
  },
  {
   "cell_type": "markdown",
   "metadata": {},
   "source": [
    "## Create a new component (process)\n",
    "\n",
    "Sometimes there is no existing module for the simulation that we'd like to run. The ``xarray-simlab`` framework allows to create new components and plug them to existing models with very little effort.\n",
    "\n",
    "Here is an example below that chooses randomly spatially variable values for the $K$ parameter of the stream-power law."
   ]
  },
  {
   "cell_type": "code",
   "execution_count": null,
   "metadata": {},
   "outputs": [],
   "source": [
    "from fastscape.processes import StreamPowerChannel, RasterGrid2D"
   ]
  },
  {
   "cell_type": "markdown",
   "metadata": {},
   "source": [
    "A ``xarray-simlab`` component (or process) is a (most-often) small, \"classic\" Python class that is decorated by ``xsimlab.process``.\n",
    "\n",
    "More info on how to create processes: https://xarray-simlab.readthedocs.io/en/latest/create_model.html"
   ]
  },
  {
   "cell_type": "code",
   "execution_count": null,
   "metadata": {},
   "outputs": [],
   "source": [
    "@xs.process\n",
    "class SPLRandomK:\n",
    "    grid_shape = xs.foreign(RasterGrid2D, 'shape')\n",
    "    k_coef = xs.foreign(StreamPowerChannel, 'k_coef', intent='out')\n",
    "    \n",
    "    def initialize(self):\n",
    "        self.k_coef = np.random.uniform(1e-5, 1e-4, size=self.grid_shape)"
   ]
  },
  {
   "cell_type": "markdown",
   "metadata": {},
   "source": [
    "## Update the basic model with this new component\n",
    "\n",
    "Let's first import ``basic_model``"
   ]
  },
  {
   "cell_type": "code",
   "execution_count": null,
   "metadata": {},
   "outputs": [],
   "source": [
    "from fastscape.models import basic_model\n",
    "\n",
    "basic_model"
   ]
  },
  {
   "cell_type": "markdown",
   "metadata": {},
   "source": [
    "Then we just need ``update_processes``: "
   ]
  },
  {
   "cell_type": "code",
   "execution_count": null,
   "metadata": {},
   "outputs": [],
   "source": [
    "new_model = basic_model.update_processes({'randk': SPLRandomK})\n",
    "\n",
    "new_model"
   ]
  },
  {
   "cell_type": "markdown",
   "metadata": {},
   "source": [
    "## Run the new model (reuse an existing setup)\n",
    "\n",
    "Let's import below the setup that we have created in the ``run_basic_model`` notebook:"
   ]
  },
  {
   "cell_type": "code",
   "execution_count": null,
   "metadata": {},
   "outputs": [],
   "source": [
    "in_ds = xr.load_dataset('basic_input.nc')"
   ]
  },
  {
   "cell_type": "markdown",
   "metadata": {},
   "source": [
    "Let's update the setup and run the new model created above:"
   ]
  },
  {
   "cell_type": "code",
   "execution_count": null,
   "metadata": {},
   "outputs": [],
   "source": [
    "# we may want to see the value generated for the SPL K coefficient.\n",
    "# you need to set the \"original variable\" (foreign variables doesn't work)!\n",
    "out_vars = in_ds.xsimlab.output_vars\n",
    "out_vars[None].append(('spl', 'k_coef'))\n",
    "\n",
    "\n",
    "with new_model:\n",
    "    out_ds = (\n",
    "        in_ds.xsimlab.filter_vars()\n",
    "             .xsimlab.update_vars(output_vars=out_vars)\n",
    "             .xsimlab.run()\n",
    "             .set_index(x='grid__x', y='grid__y')\n",
    "    )\n",
    "\n",
    "\n",
    "out_ds"
   ]
  },
  {
   "cell_type": "markdown",
   "metadata": {},
   "source": [
    "Let's look at the topography:"
   ]
  },
  {
   "cell_type": "code",
   "execution_count": null,
   "metadata": {},
   "outputs": [],
   "source": [
    "import hvplot.xarray\n",
    "import matplotlib.pyplot as plt\n",
    "\n",
    "out_ds.topography__elevation.hvplot.image(x='x', y='y',\n",
    "                                          cmap=plt.cm.viridis,\n",
    "                                          groupby='out')"
   ]
  },
  {
   "cell_type": "markdown",
   "metadata": {},
   "source": [
    "## Exercices\n",
    "\n",
    "- Update the component so that the user can provide a range for the randomly generated parameter values\n",
    "- Update the component so that new random values are generated at each time step\n",
    "- Any idea scientifically more interesting?"
   ]
  },
  {
   "cell_type": "code",
   "execution_count": null,
   "metadata": {},
   "outputs": [],
   "source": []
  }
 ],
 "metadata": {
  "kernelspec": {
   "display_name": "Python [conda env:fastscape_dev]",
   "language": "python",
   "name": "conda-env-fastscape_dev-py"
  },
  "language_info": {
   "codemirror_mode": {
    "name": "ipython",
    "version": 3
   },
   "file_extension": ".py",
   "mimetype": "text/x-python",
   "name": "python",
   "nbconvert_exporter": "python",
   "pygments_lexer": "ipython3",
   "version": "3.7.3"
  }
 },
 "nbformat": 4,
 "nbformat_minor": 4
}
