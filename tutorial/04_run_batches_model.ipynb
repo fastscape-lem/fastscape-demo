{
 "cells": [
  {
   "cell_type": "markdown",
   "metadata": {},
   "source": [
    "# Run batches of FastScape simulations\n",
    "\n",
    "Via xarray-simlab, we leverage the ``dask`` library (https://docs.dask.org/en/latest/) and its integration with ``xarray`` to easily run, analyse and visualize batches of model runs, e.g., in the cases of sentitivity analyses or inversions.\n",
    "\n",
    "Let's import some packages first:"
   ]
  },
  {
   "cell_type": "code",
   "execution_count": null,
   "metadata": {},
   "outputs": [],
   "source": [
    "import numpy as np\n",
    "import xarray as xr\n",
    "import xsimlab as xs\n",
    "import fastscape"
   ]
  },
  {
   "cell_type": "code",
   "execution_count": null,
   "metadata": {},
   "outputs": [],
   "source": [
    "print('xarray-simlab version: ', xs.__version__)\n",
    "print('fastscape version: ', fastscape.__version__)"
   ]
  },
  {
   "cell_type": "markdown",
   "metadata": {},
   "source": [
    "You won't need to run the cell below when support for running batches of simulations will be added in ``xarray-simlab``."
   ]
  },
  {
   "cell_type": "markdown",
   "metadata": {},
   "source": [
    "## Import the model and the model base setup"
   ]
  },
  {
   "cell_type": "markdown",
   "metadata": {},
   "source": [
    "Let's import the basic (standard) FastScape model"
   ]
  },
  {
   "cell_type": "code",
   "execution_count": null,
   "metadata": {},
   "outputs": [],
   "source": [
    "from fastscape.models import basic_model"
   ]
  },
  {
   "cell_type": "markdown",
   "metadata": {},
   "source": [
    "The setup create in the ``run_basic_model`` is reused here as a base setup"
   ]
  },
  {
   "cell_type": "code",
   "execution_count": null,
   "metadata": {},
   "outputs": [],
   "source": [
    "in_ds = xr.load_dataset('basic_input.nc')"
   ]
  },
  {
   "cell_type": "markdown",
   "metadata": {},
   "source": [
    "## Example 1: run models for different values of $K$ (stream power law)\n",
    "\n",
    "We just need to set the corresponding variable with different values and a dimension label for the batch, and then pass this dimension label to ``.xsimlab.run``. To run the models in parallel we set ``parallel=True`` and we choose here Dask's ``processes`` scheduler. With this scheduler, we also need to set ``store`` with a compatible storage alternative (i.e., not the default, in-memory store)."
   ]
  },
  {
   "cell_type": "code",
   "execution_count": null,
   "metadata": {},
   "outputs": [],
   "source": [
    "in_vars = {'spl__k_coef': ('spl__k_coef', np.linspace(1e-5, 1e-4, 5))}"
   ]
  },
  {
   "cell_type": "code",
   "execution_count": null,
   "metadata": {},
   "outputs": [],
   "source": [
    "from dask.diagnostics import ProgressBar\n",
    "\n",
    "with basic_model, ProgressBar():\n",
    "    out_ds = (\n",
    "        in_ds\n",
    "        .xsimlab.update_vars(input_vars=in_vars)\n",
    "        .xsimlab.run(batch_dim='spl__k_coef', parallel=True, scheduler=\"processes\", store=\"batch.zarr\")\n",
    "    )\n",
    "    \n",
    "out_ds"
   ]
  },
  {
   "cell_type": "markdown",
   "metadata": {},
   "source": [
    "Plotting using ``hvplot`` is just as easy as with single model runs. We can easily explore the parameter space."
   ]
  },
  {
   "cell_type": "code",
   "execution_count": null,
   "metadata": {},
   "outputs": [],
   "source": [
    "import hvplot.xarray\n",
    "import matplotlib.pyplot as plt\n",
    "\n",
    "out_ds.topography__elevation.hvplot.image(\n",
    "    x='x', y='y', cmap=plt.cm.viridis, groupby=['spl__k_coef', 'out'])"
   ]
  },
  {
   "cell_type": "markdown",
   "metadata": {},
   "source": [
    "Extracting statistics along the batch dimension is very easy (and it's executed in parallel):"
   ]
  },
  {
   "cell_type": "code",
   "execution_count": null,
   "metadata": {},
   "outputs": [],
   "source": [
    "avg = out_ds.topography__elevation.mean(dim='spl__k_coef')\n"
   ]
  },
  {
   "cell_type": "markdown",
   "metadata": {},
   "source": [
    "Selecting and plotting cross-sections is easy too:"
   ]
  },
  {
   "cell_type": "code",
   "execution_count": null,
   "metadata": {},
   "outputs": [],
   "source": [
    "avg.isel(out=-1).sel(x=10000).plot();"
   ]
  },
  {
   "cell_type": "markdown",
   "metadata": {},
   "source": [
    "Xarray has powerful plotting capabilities implemented on top of matplotlib:"
   ]
  },
  {
   "cell_type": "code",
   "execution_count": null,
   "metadata": {},
   "outputs": [],
   "source": [
    "(out_ds\n",
    " .topography__elevation.isel(out=-1)            # select elevation at the end of the simulation\n",
    " .mean(dim='x')                                 # average over the 'x' axis\n",
    " .plot(col='spl__k_coef', col_wrap=4)           # plot for all simulations in the batch (K coef values)\n",
    ");      "
   ]
  },
  {
   "cell_type": "code",
   "execution_count": null,
   "metadata": {},
   "outputs": [],
   "source": []
  }
 ],
 "metadata": {
  "kernelspec": {
   "display_name": "Python [conda env:fastscape-demo]",
   "language": "python",
   "name": "conda-env-fastscape-demo-py"
  },
  "language_info": {
   "codemirror_mode": {
    "name": "ipython",
    "version": 3
   },
   "file_extension": ".py",
   "mimetype": "text/x-python",
   "name": "python",
   "nbconvert_exporter": "python",
   "pygments_lexer": "ipython3",
   "version": "3.8.5"
  }
 },
 "nbformat": 4,
 "nbformat_minor": 4
}
