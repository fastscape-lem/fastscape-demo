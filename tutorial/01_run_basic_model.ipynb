{
 "cells": [
  {
   "cell_type": "markdown",
   "metadata": {},
   "source": [
    "# Run the FastScape landscape evolution model\n",
    "\n",
    "In this notebook, we will see how to import a basic model, inspect the model, create a setup and run the model.\n",
    "\n",
    "FastScape is implemented using the ``xarray-simlab`` framework. For more info:\n",
    "\n",
    "- https://xarray-simlab.readthedocs.io/en/latest/inspect_model.html\n",
    "- https://xarray-simlab.readthedocs.io/en/latest/run_model.html\n",
    "\n",
    "Let's import some packages first (you can install them using ``conda``)."
   ]
  },
  {
   "cell_type": "code",
   "execution_count": null,
   "metadata": {},
   "outputs": [],
   "source": [
    "import numpy as np\n",
    "import xarray as xr\n",
    "import xsimlab as xs\n",
    "import fastscape"
   ]
  },
  {
   "cell_type": "code",
   "execution_count": null,
   "metadata": {},
   "outputs": [],
   "source": [
    "print('xarray-simlab version: ', xs.__version__)\n",
    "print('fastscape version: ', fastscape.__version__)"
   ]
  },
  {
   "cell_type": "markdown",
   "metadata": {},
   "source": [
    "## Import the basic model\n",
    "\n",
    "Note: the ``fastscape`` package is not yet available as a ``conda`` package, but it will soon!"
   ]
  },
  {
   "cell_type": "code",
   "execution_count": null,
   "metadata": {},
   "outputs": [],
   "source": [
    "from fastscape.models import basic_model"
   ]
  },
  {
   "cell_type": "markdown",
   "metadata": {},
   "source": [
    "This model simulates the long-term evolution of topographic surface elevation (hereafter noted $h$) on a 2D regular grid. The local rate of elevation change, $\\partial h/\\partial t$, is determined by the balance between uplift (uniform in space and time) $U$ and erosion $E$.\n",
    "\n",
    "$$\\frac{\\partial h}{\\partial t} = U - E$$\n",
    "\n",
    "Total erosion $E$ is the combined effect of the erosion of (bedrock) river channels, noted $E_r$, and erosion- transport on hillslopes, noted $E_d$\n",
    "\n",
    "$$E = E_r + E_d$$\n",
    "\n",
    "Erosion of river channels is given by the stream power law:\n",
    "\n",
    "$$E_r = K_r A^m (\\nabla h)^n$$\n",
    "\n",
    "where $A$ is the drainage area and $K$, $m$ and $n$ are parameters.\n",
    "\n",
    "Erosion on hillslopes is given by a linear diffusion law:\n",
    "\n",
    "$$E_d = K_d \\nabla^2 h$$\n"
   ]
  },
  {
   "cell_type": "markdown",
   "metadata": {},
   "source": [
    "``xarray-simlab`` is a modular framework, where model inputs are automatically retrieved from model components. ``basic_model`` is a ``xsimlab.Model`` object that contains a bunch of components. Just typing ``basic_model`` shows the ordered list of components as well as all model inputs (parameters), grouped by the component to which they belong:"
   ]
  },
  {
   "cell_type": "code",
   "execution_count": null,
   "metadata": {},
   "outputs": [],
   "source": [
    "basic_model"
   ]
  },
  {
   "cell_type": "markdown",
   "metadata": {},
   "source": [
    "To have a better picture of all processes (and inputs and/or variables) in the model, we can visualize it as a graph. Processes are in blue and inputs are in yellow. The order in the graph corresponds to the order in which the processes will be exectued during a simulation.\n",
    "\n",
    "Note: the visualization requires graphviz and python-graphviz packages (both can be installed using conda and the conda-forge channel)."
   ]
  },
  {
   "cell_type": "code",
   "execution_count": null,
   "metadata": {},
   "outputs": [],
   "source": [
    "basic_model.visualize(show_inputs=True)"
   ]
  },
  {
   "cell_type": "markdown",
   "metadata": {},
   "source": [
    "More information can be shown for each process in the model, e.g., for the grid component here below. We can see all the variables defined in that components (thus not only those that are inputs of ``basic_model``)."
   ]
  },
  {
   "cell_type": "code",
   "execution_count": null,
   "metadata": {},
   "outputs": [],
   "source": [
    "basic_model.grid"
   ]
  },
  {
   "cell_type": "markdown",
   "metadata": {},
   "source": [
    "## Create a model setup\n",
    "\n",
    "We create a simulation setup using the `create_setup` function."
   ]
  },
  {
   "cell_type": "code",
   "execution_count": null,
   "metadata": {},
   "outputs": [],
   "source": [
    "nx = 101\n",
    "ny = 101\n",
    "\n",
    "in_ds = xs.create_setup(\n",
    "    model=basic_model,\n",
    "    clocks={\n",
    "        'time': np.linspace(0., 1e6, 101),\n",
    "        'out': np.linspace(0., 1e6, 11)\n",
    "    },\n",
    "    master_clock='time',\n",
    "    input_vars={\n",
    "        'grid__shape': [101, 201],\n",
    "        'grid__length': [1e4, 2e4],\n",
    "        'boundary__status': ['looped', 'looped', 'fixed_value', 'fixed_value'],\n",
    "        'uplift__rate': 1e-3,\n",
    "        'spl': {'k_coef': 1e-4, 'area_exp': 0.4, 'slope_exp': 1.},\n",
    "        'diffusion__diffusivity': 1e-1\n",
    "    },\n",
    "    output_vars={\n",
    "        'topography__elevation': 'out',\n",
    "        'drainage__area': 'out',\n",
    "        'flow__basin': 'out',\n",
    "        'spl__chi': None\n",
    "    }\n",
    ")"
   ]
  },
  {
   "cell_type": "markdown",
   "metadata": {},
   "source": [
    "Some explanation about the arguments of `create_setup` and the values given above:\n",
    "\n",
    "- we specify the model we want to use, here `basic_model`,\n",
    "- we specify values for clock coordinates (i.e., time coordinates),\n",
    "- among these coordinates, we specify the master clock, i.e., the coordinate that will be used to\n",
    "  set the time steps,\n",
    "- we set values for model inputs (may be grouped by process in the model),\n",
    "- we set the model variables and the clock coordinate for which we want to take snapshots during a simulation (`None` means that only one snapshot will be taken at the end of the simulation).\n",
    "  \n",
    "Here above, we define a 'time' coordinate and another coordinate 'out' with much larger but aligned\n",
    "time steps (the values are in years). 'time' will be used for the simulation time steps and 'out' will be used to take just a few, evenly-spaced snapshots of\n",
    "a few variables like topographic elevation, drainage area and catchments. We also save the $\\chi$ values at the end of the simulation.\n",
    "\n",
    "The initial conditions consist here of a nearly flat topographic surface with small random perturbations. Boundaries are periodic on the left and right borders and fixed on the top and bottom borders."
   ]
  },
  {
   "cell_type": "markdown",
   "metadata": {},
   "source": [
    "`create_setup` returns a `xarray.Dataset` object that contains everything we need to run the simulation.\n",
    "\n",
    "More info about xarray: http://xarray.pydata.org/en/stable/"
   ]
  },
  {
   "cell_type": "code",
   "execution_count": null,
   "metadata": {},
   "outputs": [],
   "source": [
    "in_ds"
   ]
  },
  {
   "cell_type": "markdown",
   "metadata": {},
   "source": [
    "If present, the metadata (e.g., description, units, math_symbol...) associated to each input variable in the model are added as attributes in the dataset, e.g.,"
   ]
  },
  {
   "cell_type": "code",
   "execution_count": null,
   "metadata": {},
   "outputs": [],
   "source": [
    "in_ds.spl__k_coef"
   ]
  },
  {
   "cell_type": "markdown",
   "metadata": {},
   "source": [
    "## Run the model\n",
    "\n",
    "We run the model simply by calling `in_ds.xsimlab.run()`, which returns a new Dataset with both the inputs and the outputs. "
   ]
  },
  {
   "cell_type": "code",
   "execution_count": null,
   "metadata": {},
   "outputs": [],
   "source": [
    "out_ds = in_ds.xsimlab.run(model=basic_model)\n",
    "\n",
    "out_ds"
   ]
  },
  {
   "cell_type": "markdown",
   "metadata": {},
   "source": [
    "Note for example in `out_ds` the `topography__elevation` variable which has now an additional `out` dimension."
   ]
  },
  {
   "cell_type": "code",
   "execution_count": null,
   "metadata": {},
   "outputs": [],
   "source": [
    "out_ds.topography__elevation"
   ]
  },
  {
   "cell_type": "markdown",
   "metadata": {},
   "source": [
    "## Analyse, plot and save the results (some examples)\n",
    "\n",
    "Having all the input and output data bundled into a ``xarray.Dataset`` is very convenient to further do some post-processing, visualization or writing the results to disk (e.g., as a netCDF file).\n",
    "\n",
    "``xarray`` is a powerful library that is well connected to other libraries of the scientific Python ecosystem."
   ]
  },
  {
   "cell_type": "markdown",
   "metadata": {},
   "source": [
    "Plot the elevation values at the end of the simulation (note: the xarray plotting functions are built on top of the [matplotlib](https://matplotlib.org/) library):"
   ]
  },
  {
   "cell_type": "code",
   "execution_count": null,
   "metadata": {},
   "outputs": [],
   "source": [
    "import matplotlib.pyplot as plt\n",
    "%matplotlib inline\n",
    "\n",
    "out_ds.isel(out=-1).topography__elevation.plot(size=5, aspect=2);"
   ]
  },
  {
   "cell_type": "markdown",
   "metadata": {},
   "source": [
    "Or plot it at a given time (one label of the ``out`` coordinate):"
   ]
  },
  {
   "cell_type": "code",
   "execution_count": null,
   "metadata": {},
   "outputs": [],
   "source": [
    "out_ds.sel(out=1e5).topography__elevation.plot(size=5, aspect=2);"
   ]
  },
  {
   "cell_type": "markdown",
   "metadata": {},
   "source": [
    "It is also easy to extract profiles and plot it:"
   ]
  },
  {
   "cell_type": "code",
   "execution_count": null,
   "metadata": {},
   "outputs": [],
   "source": [
    "out_ds.sel(out=1e5, x=1000).topography__elevation.plot(size=5, aspect=2);"
   ]
  },
  {
   "cell_type": "markdown",
   "metadata": {},
   "source": [
    "Or extract and plot swath profiles:"
   ]
  },
  {
   "cell_type": "code",
   "execution_count": null,
   "metadata": {},
   "outputs": [],
   "source": [
    "out_ds.sel(out=1e5).mean(dim='x').topography__elevation.plot(size=5, aspect=2);"
   ]
  },
  {
   "cell_type": "markdown",
   "metadata": {},
   "source": [
    "With ``xarray``, you can extract the same swath profile for all output variables (and all saved time steps) at once:"
   ]
  },
  {
   "cell_type": "code",
   "execution_count": null,
   "metadata": {},
   "outputs": [],
   "source": [
    "out_ds.mean(dim='x')"
   ]
  },
  {
   "cell_type": "markdown",
   "metadata": {},
   "source": [
    "We can also use ``hvplot`` (built on top of ``holoviews`` and ``bokeh``) to create interactive figures.\n",
    "\n",
    "More info: https://hvplot.pyviz.org/user_guide/Gridded_Data.html"
   ]
  },
  {
   "cell_type": "code",
   "execution_count": null,
   "metadata": {},
   "outputs": [],
   "source": [
    "import hvplot.xarray\n",
    "\n",
    "out_ds.topography__elevation.hvplot.image(x='x', y='y',\n",
    "                                          cmap=plt.cm.viridis,\n",
    "                                          groupby='out')"
   ]
  },
  {
   "cell_type": "code",
   "execution_count": null,
   "metadata": {},
   "outputs": [],
   "source": [
    "out_ds.flow__basin.hvplot.image(x='x', y='y',\n",
    "                                cmap=plt.cm.tab20b,\n",
    "                                width=800)"
   ]
  },
  {
   "cell_type": "code",
   "execution_count": null,
   "metadata": {},
   "outputs": [],
   "source": [
    "out_ds.mean(dim='x').topography__elevation.hvplot(groupby='out', ylim=(0, 300))"
   ]
  },
  {
   "cell_type": "markdown",
   "metadata": {},
   "source": [
    "As a more advanced example, let's extract mean elevation for the largest drainage basins at the last time step.  "
   ]
  },
  {
   "cell_type": "code",
   "execution_count": null,
   "metadata": {},
   "outputs": [],
   "source": [
    "# extract last time step dataset\n",
    "last_step_ds = out_ds.isel(out=-1)\n",
    "\n",
    "# count the number of grid nodes in each basin\n",
    "nnodes_per_basin = last_step_ds.groupby('flow__basin').count()\n",
    "\n",
    "# get ids of large basins (i.e., more than 10 nodes)\n",
    "basin_ids = (xr.where(nnodes_per_basin.topography__elevation > 10, 1, np.nan)\n",
    "               .dropna('flow__basin')\n",
    "               .flow__basin)\n",
    "\n",
    "# extract mean elevation per basin\n",
    "mean_elev = last_step_ds.groupby('flow__basin').mean().topography__elevation\n",
    "\n",
    "# select only large basins\n",
    "mean_elev_basins = mean_elev.sel(flow__basin=basin_ids)\n",
    "\n",
    "# show histogram\n",
    "mean_elev_basins.plot.hist();"
   ]
  },
  {
   "cell_type": "markdown",
   "metadata": {},
   "source": [
    "Export the simulations data as netCDF files:"
   ]
  },
  {
   "cell_type": "code",
   "execution_count": null,
   "metadata": {},
   "outputs": [],
   "source": [
    "# TODO: Fix border fillvalue issue\n",
    "out_ds.border.attrs.pop(\"_FillValue\")\n",
    "\n",
    "in_ds.to_netcdf('basic_input.nc')\n",
    "\n",
    "out_ds.to_netcdf('basic_output.nc')"
   ]
  },
  {
   "cell_type": "code",
   "execution_count": null,
   "metadata": {},
   "outputs": [],
   "source": []
  }
 ],
 "metadata": {
  "celltoolbar": "Raw Cell Format",
  "kernelspec": {
   "display_name": "Python [conda env:fastscape-demo]",
   "language": "python",
   "name": "conda-env-fastscape-demo-py"
  },
  "language_info": {
   "codemirror_mode": {
    "name": "ipython",
    "version": 3
   },
   "file_extension": ".py",
   "mimetype": "text/x-python",
   "name": "python",
   "nbconvert_exporter": "python",
   "pygments_lexer": "ipython3",
   "version": "3.8.5"
  }
 },
 "nbformat": 4,
 "nbformat_minor": 4
}
