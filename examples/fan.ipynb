{
 "cells": [
  {
   "cell_type": "markdown",
   "metadata": {},
   "source": [
    "# Evolution of a fan\n",
    "\n",
    "This notebook reproduces the [fan example](https://fastscape-lem.github.io/fastscapelib-fortran/#_fan_f90) provided in the fastscapelib-fortran library. It illustrates continental transport/deposition."
   ]
  },
  {
   "cell_type": "code",
   "execution_count": null,
   "metadata": {},
   "outputs": [],
   "source": [
    "import numpy as np\n",
    "import xsimlab as xs\n",
    "import matplotlib.pyplot as plt\n",
    "import fastscape\n",
    "\n",
    "%matplotlib inline"
   ]
  },
  {
   "cell_type": "code",
   "execution_count": null,
   "metadata": {},
   "outputs": [],
   "source": [
    "print('xarray-simlab version: ', xs.__version__)\n",
    "print('fastscape version: ', fastscape.__version__)"
   ]
  },
  {
   "cell_type": "markdown",
   "metadata": {},
   "source": [
    "## Import, customize and inspect the model\n",
    "\n",
    "A sediment model is available in [fastscape](https://fastscape.readthedocs.io/en/latest/)."
   ]
  },
  {
   "cell_type": "code",
   "execution_count": null,
   "metadata": {},
   "outputs": [],
   "source": [
    "from fastscape.models import sediment_model"
   ]
  },
  {
   "cell_type": "markdown",
   "metadata": {},
   "source": [
    "We want to model the evolution of a passive escarpment, thus with no uplift."
   ]
  },
  {
   "cell_type": "code",
   "execution_count": null,
   "metadata": {},
   "outputs": [],
   "source": [
    "from fastscape.processes import Escarpment\n",
    "\n",
    "\n",
    "model = (sediment_model\n",
    "         .drop_processes('uplift')\n",
    "         .update_processes({'init_topography': Escarpment}))"
   ]
  },
  {
   "cell_type": "code",
   "execution_count": null,
   "metadata": {},
   "outputs": [],
   "source": [
    "model"
   ]
  },
  {
   "cell_type": "code",
   "execution_count": null,
   "metadata": {},
   "outputs": [],
   "source": [
    "sediment_model.visualize(show_inputs=True)"
   ]
  },
  {
   "cell_type": "markdown",
   "metadata": {},
   "source": [
    "## Model setup"
   ]
  },
  {
   "cell_type": "code",
   "execution_count": null,
   "metadata": {},
   "outputs": [],
   "source": [
    "in_ds = xs.create_setup(\n",
    "    model=model,\n",
    "    clocks={\n",
    "        'time': np.arange(0, 4e5 + 2e3, 2e3),\n",
    "        'out': np.arange(0, 4e5 + 4e3, 4e3),\n",
    "    },\n",
    "    master_clock='time',\n",
    "    input_vars={\n",
    "        'grid__shape': ('shape_yx', [101, 201]),\n",
    "        'grid__length': ('shape_yx', [1e4, 2e4]),\n",
    "        'boundary__status': ('border', ['fixed_value', 'whatever', 'looped', 'looped']),\n",
    "        'init_topography': {\n",
    "            'x_left': 1e4,\n",
    "            'x_right': 1e4,\n",
    "            'elevation_left': 0.,\n",
    "            'elevation_right': 1e3\n",
    "        },\n",
    "        'flow__slope_exp': 1.,\n",
    "        'spl': {\n",
    "            'k_coef_bedrock': 1e-4,\n",
    "            'k_coef_soil': 1.5e-4,\n",
    "            'g_coef_bedrock': 1.,\n",
    "            'g_coef_soil': 1.,\n",
    "            'area_exp': 0.4,\n",
    "            'slope_exp': 1.\n",
    "        },\n",
    "        'diffusion': {\n",
    "            'diffusivity_bedrock': 1e-2,\n",
    "            'diffusivity_soil': 1.5e-2\n",
    "        }\n",
    "    },\n",
    "    output_vars={\n",
    "        'out': ['topography__elevation',\n",
    "                'drainage__area',\n",
    "                'erosion__rate'],\n",
    "        None: ['boundary__border',\n",
    "               'grid__x',\n",
    "               'grid__y',\n",
    "               'grid__spacing'],\n",
    "    }\n",
    ")\n",
    "\n",
    "in_ds"
   ]
  },
  {
   "cell_type": "markdown",
   "metadata": {},
   "source": [
    "## Run the model\n",
    "\n",
    "This should take about 10 seconds..."
   ]
  },
  {
   "cell_type": "code",
   "execution_count": null,
   "metadata": {},
   "outputs": [],
   "source": [
    "out_ds = (in_ds.xsimlab.run(model=model)\n",
    "               .set_index(x='grid__x', y='grid__y',\n",
    "                          border='boundary__border'))"
   ]
  },
  {
   "cell_type": "code",
   "execution_count": null,
   "metadata": {},
   "outputs": [],
   "source": [
    "out_ds"
   ]
  },
  {
   "cell_type": "markdown",
   "metadata": {},
   "source": [
    "## Plot the outputs\n",
    "\n",
    "The following plots (total erosion/deposition rate, drainage area and topography cross-section) highlight the dynamics on the left area (depositional) and its interaction with the right area (erosional)."
   ]
  },
  {
   "cell_type": "code",
   "execution_count": null,
   "metadata": {},
   "outputs": [],
   "source": [
    "import hvplot.xarray\n",
    "import holoviews as hv\n",
    "from xshade import hillshade\n",
    "\n",
    "\n",
    "erosion_plot = out_ds.erosion__rate.hvplot.image(\n",
    "    x='x', y='y', clim=(-2.5e-3, 2.5e-3),\n",
    "    cmap=plt.cm.RdYlGn_r, groupby='out'\n",
    ")\n",
    "\n",
    "hillshade_plot = hillshade(out_ds, 'out').hvplot.image(\n",
    "    x='x', y='y', cmap=plt.cm.gray, alpha=0.4,\n",
    "    colorbar=False, hover=False, groupby='out'\n",
    ")\n",
    "\n",
    "ysections =  out_ds.topography__elevation.sel(y=[2.5e3, 5e3, 7.5e3])\n",
    "\n",
    "sections_plot = ysections.hvplot.line(\n",
    "    by='y', groupby='out', ylim=(0, 1100), legend='top_left',\n",
    ")\n",
    "\n",
    "hv.Layout((erosion_plot * hillshade_plot) + sections_plot).cols(1)"
   ]
  },
  {
   "cell_type": "code",
   "execution_count": null,
   "metadata": {},
   "outputs": [],
   "source": []
  }
 ],
 "metadata": {
  "kernelspec": {
   "display_name": "Python [conda env:fastscape_dev]",
   "language": "python",
   "name": "conda-env-fastscape_dev-py"
  },
  "language_info": {
   "codemirror_mode": {
    "name": "ipython",
    "version": 3
   },
   "file_extension": ".py",
   "mimetype": "text/x-python",
   "name": "python",
   "nbconvert_exporter": "python",
   "pygments_lexer": "ipython3",
   "version": "3.7.3"
  }
 },
 "nbformat": 4,
 "nbformat_minor": 4
}
