{
 "cells": [
  {
   "cell_type": "markdown",
   "metadata": {},
   "source": [
    "# Evolution of a margin\n",
    "\n",
    "This notebook reproduces the [margin example](https://fastscape-lem.github.io/fastscapelib-fortran/#_margin_f90) provided in the fastscapelib-fortran library. It illustrates continental transport/deposition and sediment transport/deposition in submarine environments."
   ]
  },
  {
   "cell_type": "code",
   "execution_count": null,
   "metadata": {},
   "outputs": [],
   "source": [
    "import numpy as np\n",
    "import xsimlab as xs\n",
    "import matplotlib.pyplot as plt\n",
    "import fastscape\n",
    "\n",
    "%matplotlib inline"
   ]
  },
  {
   "cell_type": "code",
   "execution_count": null,
   "metadata": {},
   "outputs": [],
   "source": [
    "print('xarray-simlab version: ', xs.__version__)\n",
    "print('fastscape version: ', fastscape.__version__)"
   ]
  },
  {
   "cell_type": "markdown",
   "metadata": {},
   "source": [
    "## Import, customize and inspect the model"
   ]
  },
  {
   "cell_type": "code",
   "execution_count": null,
   "metadata": {},
   "outputs": [],
   "source": [
    "from fastscape.models import marine_model"
   ]
  },
  {
   "cell_type": "markdown",
   "metadata": {},
   "source": [
    "We use here a slightly simpler version of ``marine_model``:"
   ]
  },
  {
   "cell_type": "code",
   "execution_count": null,
   "metadata": {},
   "outputs": [],
   "source": [
    "from fastscape.processes import LinearDiffusion, StreamPowerChannelTD\n",
    "\n",
    "\n",
    "model = marine_model.update_processes({\n",
    "    'spl': StreamPowerChannelTD,\n",
    "    'diffusion': LinearDiffusion\n",
    "}).drop_processes(\n",
    "    'strati'\n",
    ")"
   ]
  },
  {
   "cell_type": "code",
   "execution_count": null,
   "metadata": {},
   "outputs": [],
   "source": [
    "model"
   ]
  },
  {
   "cell_type": "code",
   "execution_count": null,
   "metadata": {},
   "outputs": [],
   "source": [
    "model.visualize(show_inputs=True)"
   ]
  },
  {
   "cell_type": "markdown",
   "metadata": {},
   "source": [
    "## Model setup"
   ]
  },
  {
   "cell_type": "code",
   "execution_count": null,
   "metadata": {},
   "outputs": [],
   "source": [
    "in_ds = xs.create_setup(\n",
    "    model=model,\n",
    "    clocks={\n",
    "        'time': np.arange(0, 1e6 + 1e3, 1e3),\n",
    "        'out': np.arange(0, 1e6 + 5e4, 5e4),\n",
    "    },\n",
    "    master_clock='time',\n",
    "    input_vars={\n",
    "        'grid__shape': ('shape_yx', [101, 151]),\n",
    "        'grid__length': ('shape_yx', [1e5, 1.5e5]),\n",
    "        'boundary__status': ('border', ['fixed_value', 'whatever', 'looped', 'looped']),\n",
    "        'init_topography': {\n",
    "            'x_left': 0.75e5,\n",
    "            'x_right': 0.75e5,\n",
    "            'elevation_left': -1000.,\n",
    "            'elevation_right': 0.\n",
    "        },\n",
    "        'uplift': {\n",
    "            'x_position': 0.75e5,\n",
    "            'rate_left': 0.,\n",
    "            'rate_right': 1e-3\n",
    "        },\n",
    "        'flow__slope_exp': 1.,\n",
    "        'spl': {\n",
    "            'k_coef': 1e-5,\n",
    "            'g_coef': 1.,\n",
    "            'area_exp': 0.8,\n",
    "            'slope_exp': 2.\n",
    "        },\n",
    "        'diffusion__diffusivity': 1e-2,\n",
    "        'sea__level': 0.,\n",
    "        'marine': {\n",
    "            'ss_ratio_land': 0.5,\n",
    "            'porosity_sand': 0.,\n",
    "            'porosity_silt': 0.,\n",
    "            'e_depth_sand': 1e3,\n",
    "            'e_depth_silt': 1e3,\n",
    "            'diffusivity_sand': 3e2 / 2.,\n",
    "            'diffusivity_silt': 3e2,\n",
    "            'layer_depth': 1e2,\n",
    "        }\n",
    "    },\n",
    "    output_vars={\n",
    "        'out': ['topography__elevation',\n",
    "                'marine__ss_ratio_sea'],\n",
    "        None: ['boundary__border',\n",
    "               'grid__x',\n",
    "               'grid__y'],\n",
    "    }\n",
    ")\n",
    "\n",
    "in_ds"
   ]
  },
  {
   "cell_type": "markdown",
   "metadata": {},
   "source": [
    "## Run the model\n",
    "\n",
    "This might take 1-2 minutes..."
   ]
  },
  {
   "cell_type": "code",
   "execution_count": null,
   "metadata": {},
   "outputs": [],
   "source": [
    "out_ds = (in_ds.xsimlab.run(model=model)\n",
    "               .set_index(x='grid__x', y='grid__y',\n",
    "                          border='boundary__border'))"
   ]
  },
  {
   "cell_type": "code",
   "execution_count": null,
   "metadata": {},
   "outputs": [],
   "source": [
    "out_ds"
   ]
  },
  {
   "cell_type": "markdown",
   "metadata": {},
   "source": [
    "## Plot the outputs (topography and stratigraphic horizons)"
   ]
  },
  {
   "cell_type": "code",
   "execution_count": null,
   "metadata": {},
   "outputs": [],
   "source": [
    "import hvplot.xarray\n",
    "import holoviews as hv\n",
    "from xshade import hillshade\n",
    "\n",
    "\n",
    "ss_ratio_plot = out_ds.marine__ss_ratio_sea.hvplot.image(\n",
    "    x='x', y='y', clim=(0, 1),\n",
    "    width=550, height=350,\n",
    "    cmap=plt.cm.viridis_r, groupby='out'\n",
    ")\n",
    "\n",
    "hillshade_plot = hillshade(out_ds, 'out').hvplot.image(\n",
    "    x='x', y='y', cmap=plt.cm.gray, alpha=0.7,\n",
    "    colorbar=False, hover=False, groupby='out'\n",
    ")\n",
    "\n",
    "ysections =  out_ds.topography__elevation.sel(y=[2.5e4, 5e4, 7.5e4])\n",
    "\n",
    "sections_plot = ysections.hvplot.line(\n",
    "    by='y', groupby='out', ylim=(-1e3, 1e3),\n",
    "    width=550, height=200, legend='top_left',\n",
    ")\n",
    "\n",
    "hv.Layout((ss_ratio_plot * hillshade_plot) + sections_plot).cols(1)"
   ]
  },
  {
   "cell_type": "code",
   "execution_count": null,
   "metadata": {},
   "outputs": [],
   "source": []
  }
 ],
 "metadata": {
  "kernelspec": {
   "display_name": "Python [conda env:fastscape_dev]",
   "language": "python",
   "name": "conda-env-fastscape_dev-py"
  },
  "language_info": {
   "codemirror_mode": {
    "name": "ipython",
    "version": 3
   },
   "file_extension": ".py",
   "mimetype": "text/x-python",
   "name": "python",
   "nbconvert_exporter": "python",
   "pygments_lexer": "ipython3",
   "version": "3.7.3"
  }
 },
 "nbformat": 4,
 "nbformat_minor": 4
}
