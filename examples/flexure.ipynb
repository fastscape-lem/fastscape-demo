{
 "cells": [
  {
   "cell_type": "markdown",
   "metadata": {},
   "source": [
    "# Flexure example\n",
    "\n",
    "This notebook reproduces the [flexure example](https://fastscape-lem.github.io/fastscapelib-fortran/#_flexure_test_f90) provided in the fastscapelib-fortran library."
   ]
  },
  {
   "cell_type": "code",
   "execution_count": null,
   "metadata": {},
   "outputs": [],
   "source": [
    "import numpy as np\n",
    "import xsimlab as xs\n",
    "import matplotlib.pyplot as plt\n",
    "import fastscape\n",
    "\n",
    "%matplotlib inline"
   ]
  },
  {
   "cell_type": "code",
   "execution_count": null,
   "metadata": {},
   "outputs": [],
   "source": [
    "print('xarray-simlab version: ', xs.__version__)\n",
    "print('fastscape version: ', fastscape.__version__)"
   ]
  },
  {
   "cell_type": "markdown",
   "metadata": {},
   "source": [
    "## Import, customize and inspect the model\n",
    "\n",
    "Let's start from the sediment model available in [fastscape](https://fastscape.readthedocs.io/en/latest/)."
   ]
  },
  {
   "cell_type": "code",
   "execution_count": null,
   "metadata": {},
   "outputs": [],
   "source": [
    "from fastscape.models import sediment_model"
   ]
  },
  {
   "cell_type": "markdown",
   "metadata": {},
   "source": [
    "Let's add, remove or update a few processes:"
   ]
  },
  {
   "cell_type": "code",
   "execution_count": null,
   "metadata": {},
   "outputs": [],
   "source": [
    "from fastscape.processes import (Escarpment, Flexure, StratigraphicHorizons,\n",
    "                                 StreamPowerChannelTD, TwoBlocksUplift,\n",
    "                                 UniformRectilinearGrid2D)\n",
    "\n",
    "\n",
    "@xs.process\n",
    "class EscarpmentWithPertubation(Escarpment):\n",
    "    \"\"\"Adds a small perturbation to drive flow.\"\"\"\n",
    "    \n",
    "    y = xs.foreign(UniformRectilinearGrid2D, 'y')\n",
    "    grid_length = xs.foreign(UniformRectilinearGrid2D, 'length')\n",
    "    \n",
    "    def initialize(self):\n",
    "        super(EscarpmentWithPertubation, self).initialize()\n",
    "        \n",
    "        perturb = np.cos(self.y / self.grid_length[0] * 2. * np.pi)\n",
    "        \n",
    "        self.elevation += perturb[:, None]\n"
   ]
  },
  {
   "cell_type": "code",
   "execution_count": null,
   "metadata": {},
   "outputs": [],
   "source": [
    "model = (\n",
    "    sediment_model\n",
    "    .update_processes({\n",
    "        'init_topography': EscarpmentWithPertubation,\n",
    "        'uplift': TwoBlocksUplift,\n",
    "        'spl': StreamPowerChannelTD,\n",
    "        'flexure': Flexure,\n",
    "        'strati': StratigraphicHorizons\n",
    "    })\n",
    "    .drop_processes('diffusion')\n",
    ")"
   ]
  },
  {
   "cell_type": "code",
   "execution_count": null,
   "metadata": {},
   "outputs": [],
   "source": [
    "model"
   ]
  },
  {
   "cell_type": "code",
   "execution_count": null,
   "metadata": {},
   "outputs": [],
   "source": [
    "model.visualize(show_inputs=True)"
   ]
  },
  {
   "cell_type": "markdown",
   "metadata": {},
   "source": [
    "## Model setup"
   ]
  },
  {
   "cell_type": "code",
   "execution_count": null,
   "metadata": {},
   "outputs": [],
   "source": [
    "in_ds = xs.create_setup(\n",
    "    model=model,\n",
    "    clocks={\n",
    "        'time': np.arange(0, 1e7 + 2e4, 2e4),\n",
    "        'out': np.arange(0, 1e7 + 2e5, 2e5),\n",
    "    },\n",
    "    master_clock='time',\n",
    "    input_vars={\n",
    "        'grid__shape': [201, 401],\n",
    "        'grid__length': [2e5, 4e5],\n",
    "        'boundary__status': ['fixed_value', 'core', 'looped', 'looped'],\n",
    "        'init_topography': {\n",
    "            'x_left': 2e5,\n",
    "            'x_right': 2e5,\n",
    "            'elevation_left': 0.,\n",
    "            'elevation_right': 100.\n",
    "        },\n",
    "        'uplift': {\n",
    "            'x_position': 2e5,\n",
    "            'rate_left': 0.,\n",
    "            'rate_right': 3e-4\n",
    "        },\n",
    "        'spl': {\n",
    "            'k_coef': 1e-5,\n",
    "            'g_coef': 1.,\n",
    "        },\n",
    "        'flow__slope_exp': 1.,\n",
    "        'flexure': {\n",
    "            'lithos_density': 2400.,\n",
    "            'asthen_density': 3250.,\n",
    "            'e_thickness': 1e4\n",
    "        },\n",
    "        'strati': {\n",
    "            'freeze_time': np.linspace(0, 1e7, 5)\n",
    "        }\n",
    "    },\n",
    "    output_vars={\n",
    "        'topography__elevation': 'out',\n",
    "        'active_layer__thickness': 'out',\n",
    "        'strati__elevation': 'out',\n",
    "    }\n",
    ")\n",
    "\n",
    "in_ds"
   ]
  },
  {
   "cell_type": "markdown",
   "metadata": {},
   "source": [
    "## Run the model\n"
   ]
  },
  {
   "cell_type": "code",
   "execution_count": null,
   "metadata": {},
   "outputs": [],
   "source": [
    "with xs.monitoring.ProgressBar():\n",
    "    out_ds = in_ds.xsimlab.run(model=model)"
   ]
  },
  {
   "cell_type": "code",
   "execution_count": null,
   "metadata": {},
   "outputs": [],
   "source": [
    "out_ds"
   ]
  },
  {
   "cell_type": "markdown",
   "metadata": {},
   "source": [
    "## Plot the outputs"
   ]
  },
  {
   "cell_type": "code",
   "execution_count": null,
   "metadata": {},
   "outputs": [],
   "source": [
    "import hvplot.xarray\n",
    "import holoviews as hv\n",
    "from xshade import hillshade\n",
    "\n",
    "\n",
    "thickness_plot = out_ds.active_layer__thickness.hvplot.image(\n",
    "    x='x', y='y', clim=(0, 600),\n",
    "    cmap=plt.cm.viridis, groupby='out'\n",
    ")\n",
    "\n",
    "hillshade_plot = hillshade(out_ds, 'out').hvplot.image(\n",
    "    x='x', y='y', cmap=plt.cm.gray, alpha=0.5,\n",
    "    colorbar=False, hover=False, groupby='out'\n",
    ")\n",
    "\n",
    "yhorizons_plot = out_ds.strati__elevation.sel(y=1e5).hvplot.line(\n",
    "    by='horizon', groupby='out', ylim=(-2000, 2000),\n",
    "    legend='top_right',\n",
    ")\n",
    "\n",
    "hv.Layout((thickness_plot * hillshade_plot) + yhorizons_plot).cols(1)"
   ]
  },
  {
   "cell_type": "code",
   "execution_count": null,
   "metadata": {},
   "outputs": [],
   "source": []
  }
 ],
 "metadata": {
  "kernelspec": {
   "display_name": "Python [conda env:fastscape-demo]",
   "language": "python",
   "name": "conda-env-fastscape-demo-py"
  },
  "language_info": {
   "codemirror_mode": {
    "name": "ipython",
    "version": 3
   },
   "file_extension": ".py",
   "mimetype": "text/x-python",
   "name": "python",
   "nbconvert_exporter": "python",
   "pygments_lexer": "ipython3",
   "version": "3.8.5"
  }
 },
 "nbformat": 4,
 "nbformat_minor": 4
}
