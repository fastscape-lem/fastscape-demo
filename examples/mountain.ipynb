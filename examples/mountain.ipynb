{
 "cells": [
  {
   "cell_type": "markdown",
   "metadata": {},
   "source": [
    "# Simple moutain formation example\n",
    "\n",
    "This notebook reproduces the [mountain example](https://fastscape-lem.github.io/fastscapelib-fortran/#_mountain_f90) provided in the fastscapelib-fortran library. This is the most common example of a landscape evolution model in action."
   ]
  },
  {
   "cell_type": "code",
   "execution_count": null,
   "metadata": {},
   "outputs": [],
   "source": [
    "import numpy as np\n",
    "import xsimlab as xs\n",
    "import matplotlib.pyplot as plt\n",
    "import fastscape\n",
    "\n",
    "%matplotlib inline"
   ]
  },
  {
   "cell_type": "code",
   "execution_count": null,
   "metadata": {},
   "outputs": [],
   "source": [
    "print('xarray-simlab version: ', xs.__version__)\n",
    "print('fastscape version: ', fastscape.__version__)"
   ]
  },
  {
   "cell_type": "markdown",
   "metadata": {},
   "source": [
    "## Import and inspect the model\n",
    "\n",
    "We use the basic model available in [fastscape](https://fastscape.readthedocs.io/en/latest/)."
   ]
  },
  {
   "cell_type": "code",
   "execution_count": null,
   "metadata": {},
   "outputs": [],
   "source": [
    "from fastscape.models import basic_model"
   ]
  },
  {
   "cell_type": "code",
   "execution_count": null,
   "metadata": {},
   "outputs": [],
   "source": [
    "basic_model"
   ]
  },
  {
   "cell_type": "code",
   "execution_count": null,
   "metadata": {},
   "outputs": [],
   "source": [
    "basic_model.visualize(show_inputs=True)"
   ]
  },
  {
   "cell_type": "markdown",
   "metadata": {},
   "source": [
    "## Model setup\n",
    "\n",
    "**Note**: One important difference between this model and the example shown in the fastscapelib-fortran library is that linear diffusion is here computed using the same topographic surface than the one used for computing stream power channel erosion. In fastscapelib-fortran, diffusion is always computed after applying channel erosion on the topographic surface, which makes it more \"tolerant\" to large time steps.\n",
    "\n",
    "While it is possible to customize `basic_model` to mimic the behavior of fastscapelib-fortran (e.g., by replacing the diffusion process by another (sub)class), we keep the \"apply-combine\" approach here for erosion processes for more flexibility. Even if those processes are applied sequentially, setting large time steps has a significant impact on the solution as the latter is is only partially implicit (when considering the processes all together).\n",
    "\n",
    "Here below we set time steps of 20000 years (5 times shorter than the same example in fastscapelib-fortran), for an overall simulation time of 4 million years."
   ]
  },
  {
   "cell_type": "code",
   "execution_count": null,
   "metadata": {},
   "outputs": [],
   "source": [
    "in_ds = xs.create_setup(\n",
    "    model=basic_model,\n",
    "    clocks={\n",
    "        'time': np.arange(0, 4e6 + 2e4, 2e4),\n",
    "        'out': np.arange(0, 4e6 + 1e5, 1e5),\n",
    "    },\n",
    "    master_clock='time',\n",
    "    input_vars={\n",
    "        'grid__shape': ('shape_yx', [401, 401]),\n",
    "        'grid__length': ('shape_yx', [1e5, 1e5]),\n",
    "        'boundary__status': ('border', ['fixed_value', 'fixed_value', 'fixed_value', 'fixed_value']),\n",
    "        'uplift__rate': 1e-3,\n",
    "        'spl': {\n",
    "            'k_coef': 2e-6,\n",
    "            'area_exp': 0.6,\n",
    "            'slope_exp': 1.5\n",
    "        },\n",
    "        'diffusion__diffusivity': 1e-1\n",
    "    },\n",
    "    output_vars={\n",
    "        'out': ['topography__elevation',\n",
    "                'erosion__rate',\n",
    "                'diffusion__erosion',\n",
    "                'spl__chi'],\n",
    "        None: ['boundary__border',\n",
    "               'grid__x',\n",
    "               'grid__y',\n",
    "               'grid__spacing'],\n",
    "    }\n",
    ")\n",
    "\n",
    "in_ds"
   ]
  },
  {
   "cell_type": "markdown",
   "metadata": {},
   "source": [
    "## Run the model\n",
    "\n",
    "This should take a few dozens of seconds..."
   ]
  },
  {
   "cell_type": "code",
   "execution_count": null,
   "metadata": {},
   "outputs": [],
   "source": [
    "out_ds = (in_ds.xsimlab.run(model=basic_model)\n",
    "               .set_index(x='grid__x', y='grid__y',\n",
    "                          border='boundary__border'))"
   ]
  },
  {
   "cell_type": "code",
   "execution_count": null,
   "metadata": {},
   "outputs": [],
   "source": [
    "out_ds"
   ]
  },
  {
   "cell_type": "markdown",
   "metadata": {},
   "source": [
    "## Plot the outputs\n",
    "\n",
    "Plot the $\\chi$ integrated drainage area."
   ]
  },
  {
   "cell_type": "code",
   "execution_count": null,
   "metadata": {},
   "outputs": [],
   "source": [
    "import hvplot.xarray\n",
    "from xshade import hillshade\n",
    "\n",
    "\n",
    "chi_plot = out_ds.spl__chi.hvplot.image(\n",
    "    x='x', y='y', clim=(0, 1e4),\n",
    "    width=550, height=450,\n",
    "    cmap=plt.cm.magma, groupby='out'\n",
    ")\n",
    "\n",
    "hillshade_plot = hillshade(out_ds, 'out').hvplot.image(\n",
    "    x='x', y='y', cmap=plt.cm.gray, alpha=0.4,\n",
    "    colorbar=False, hover=False, groupby='out'\n",
    ")\n",
    "\n",
    "chi_plot * hillshade_plot"
   ]
  },
  {
   "cell_type": "code",
   "execution_count": null,
   "metadata": {},
   "outputs": [],
   "source": []
  }
 ],
 "metadata": {
  "kernelspec": {
   "display_name": "Python [conda env:fastscape_dev]",
   "language": "python",
   "name": "conda-env-fastscape_dev-py"
  },
  "language_info": {
   "codemirror_mode": {
    "name": "ipython",
    "version": 3
   },
   "file_extension": ".py",
   "mimetype": "text/x-python",
   "name": "python",
   "nbconvert_exporter": "python",
   "pygments_lexer": "ipython3",
   "version": "3.7.3"
  }
 },
 "nbformat": 4,
 "nbformat_minor": 4
}
