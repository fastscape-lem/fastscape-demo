{
 "cells": [
  {
   "cell_type": "markdown",
   "metadata": {},
   "source": [
    "# Sediment production, transport and deposition in both continental and marine environments\n",
    "\n",
    "This notebook shows an run example of the `marine_model` provided in [fastscape](https://fastscape.readthedocs.io/en/latest/)"
   ]
  },
  {
   "cell_type": "code",
   "execution_count": null,
   "metadata": {},
   "outputs": [],
   "source": [
    "import numpy as np\n",
    "import xsimlab as xs\n",
    "import matplotlib.pyplot as plt\n",
    "import fastscape\n",
    "\n",
    "%matplotlib inline"
   ]
  },
  {
   "cell_type": "code",
   "execution_count": null,
   "metadata": {},
   "outputs": [],
   "source": [
    "print('xarray-simlab version: ', xs.__version__)\n",
    "print('fastscape version: ', fastscape.__version__)"
   ]
  },
  {
   "cell_type": "markdown",
   "metadata": {},
   "source": [
    "## Import and inspect the model"
   ]
  },
  {
   "cell_type": "code",
   "execution_count": null,
   "metadata": {},
   "outputs": [],
   "source": [
    "from fastscape.models import marine_model"
   ]
  },
  {
   "cell_type": "code",
   "execution_count": null,
   "metadata": {},
   "outputs": [],
   "source": [
    "marine_model"
   ]
  },
  {
   "cell_type": "code",
   "execution_count": null,
   "metadata": {},
   "outputs": [],
   "source": [
    "marine_model.visualize(show_inputs=True)"
   ]
  },
  {
   "cell_type": "markdown",
   "metadata": {},
   "source": [
    "## Model setup"
   ]
  },
  {
   "cell_type": "code",
   "execution_count": null,
   "metadata": {},
   "outputs": [],
   "source": [
    "ds_in = xs.create_setup(\n",
    "    model=marine_model,\n",
    "    clocks={\n",
    "        'time': np.arange(0, 3e6 + 1e3, 1e3),\n",
    "        'out': np.arange(0, 3e6 + 2e5, 2e5),\n",
    "        'step4': [8e3]\n",
    "    },\n",
    "    master_clock='time',\n",
    "    input_vars={\n",
    "        'grid__shape': ('shape_yx', [101, 101]),\n",
    "        'grid__length': ('shape_yx', [4e5, 4e5]),\n",
    "        'boundary__status': ('border', ['fixed_value', 'whatever', 'looped', 'looped']),\n",
    "        'init_topography': {\n",
    "            'x_left': 0,\n",
    "            'x_right': 2.5e5,\n",
    "            'elevation_left': -1e3,\n",
    "            'elevation_right': 0.\n",
    "        },\n",
    "        'uplift': {\n",
    "            'x_position': 2.5e5,\n",
    "            'rate_left': 0.,\n",
    "            'rate_right': 3e-4\n",
    "        },\n",
    "        'flow__slope_exp': 1.,\n",
    "        'spl': {\n",
    "            'k_coef_bedrock': 1e-5,\n",
    "            'k_coef_soil': 1e-5,\n",
    "            'g_coef_bedrock': 1.,\n",
    "            'g_coef_soil': 1.,\n",
    "            'area_exp': 0.4,\n",
    "            'slope_exp': 1.\n",
    "        },\n",
    "        'diffusion': {\n",
    "            'diffusivity_bedrock': 1e-2,\n",
    "            'diffusivity_soil': 1e-2\n",
    "        },\n",
    "        'sea__level': 0.,\n",
    "        'marine': {\n",
    "            'ss_ratio_land': 0.5,\n",
    "            'porosity_sand': 0.,\n",
    "            'porosity_silt': 0.,\n",
    "            'e_depth_sand': 1e3,\n",
    "            'e_depth_silt': 1e3,\n",
    "            'diffusivity_sand': 5e2,\n",
    "            'diffusivity_silt': 2.5e2,\n",
    "            'layer_depth': 1e2,\n",
    "        },\n",
    "        'strati': {\n",
    "            'freeze_time': ('horizon', np.linspace(0, 3e6, 5))\n",
    "        }\n",
    "    },\n",
    "    output_vars={\n",
    "        'out': ['topography__elevation', 'strati__elevation', 'strati__active'],\n",
    "        None: ['boundary__border',\n",
    "               'grid__x',\n",
    "               'grid__y'],\n",
    "    }\n",
    ")\n",
    "\n",
    "ds_in"
   ]
  },
  {
   "cell_type": "markdown",
   "metadata": {},
   "source": [
    "## Run the model\n",
    "\n",
    "This might take 1-2 minutes..."
   ]
  },
  {
   "cell_type": "code",
   "execution_count": null,
   "metadata": {},
   "outputs": [],
   "source": [
    "ds_out = (ds_in.xsimlab.run(model=marine_model)\n",
    "               .set_index(x='grid__x', y='grid__y',\n",
    "                          border='boundary__border',\n",
    "                          horizon='strati__freeze_time'))"
   ]
  },
  {
   "cell_type": "code",
   "execution_count": null,
   "metadata": {},
   "outputs": [],
   "source": [
    "ds_out"
   ]
  },
  {
   "cell_type": "markdown",
   "metadata": {},
   "source": [
    "## Plot the outputs (stratigraphic horizons)"
   ]
  },
  {
   "cell_type": "code",
   "execution_count": null,
   "metadata": {},
   "outputs": [],
   "source": [
    "import hvplot.xarray\n",
    "\n",
    "ds_out.strati__elevation.hvplot.image(x='x', y='y', clim=(-1000, 1200),\n",
    "                                      width=600, height=550,\n",
    "                                      cmap=plt.cm.viridis,\n",
    "                                      groupby=['horizon', 'out'])"
   ]
  },
  {
   "cell_type": "markdown",
   "metadata": {},
   "source": [
    "Plot the stratigraphic horizons on a cross-section along the x-axis:"
   ]
  },
  {
   "cell_type": "code",
   "execution_count": null,
   "metadata": {},
   "outputs": [],
   "source": [
    "ds_out.strati__elevation.sel(y=2e5).isel(out=-1).plot.line(x='x');"
   ]
  },
  {
   "cell_type": "code",
   "execution_count": null,
   "metadata": {},
   "outputs": [],
   "source": []
  }
 ],
 "metadata": {
  "kernelspec": {
   "display_name": "Python [conda env:fastscape_dev]",
   "language": "python",
   "name": "conda-env-fastscape_dev-py"
  },
  "language_info": {
   "codemirror_mode": {
    "name": "ipython",
    "version": 3
   },
   "file_extension": ".py",
   "mimetype": "text/x-python",
   "name": "python",
   "nbconvert_exporter": "python",
   "pygments_lexer": "ipython3",
   "version": "3.7.3"
  }
 },
 "nbformat": 4,
 "nbformat_minor": 4
}
