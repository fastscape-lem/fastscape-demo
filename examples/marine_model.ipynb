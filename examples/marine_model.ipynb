{
 "cells": [
  {
   "cell_type": "markdown",
   "metadata": {},
   "source": [
    "# Sediment production, transport and deposition in both continental and marine environments\n",
    "\n",
    "This notebook shows a run example of the `marine_model` provided in [fastscape](https://fastscape.readthedocs.io/en/latest/)."
   ]
  },
  {
   "cell_type": "code",
   "execution_count": null,
   "metadata": {},
   "outputs": [],
   "source": [
    "import numpy as np\n",
    "import xsimlab as xs\n",
    "import matplotlib.pyplot as plt\n",
    "import fastscape\n",
    "\n",
    "%matplotlib inline"
   ]
  },
  {
   "cell_type": "code",
   "execution_count": null,
   "metadata": {},
   "outputs": [],
   "source": [
    "print('xarray-simlab version: ', xs.__version__)\n",
    "print('fastscape version: ', fastscape.__version__)"
   ]
  },
  {
   "cell_type": "markdown",
   "metadata": {},
   "source": [
    "## Import and inspect the model"
   ]
  },
  {
   "cell_type": "code",
   "execution_count": null,
   "metadata": {},
   "outputs": [],
   "source": [
    "from fastscape.models import marine_model"
   ]
  },
  {
   "cell_type": "code",
   "execution_count": null,
   "metadata": {},
   "outputs": [],
   "source": [
    "marine_model"
   ]
  },
  {
   "cell_type": "code",
   "execution_count": null,
   "metadata": {},
   "outputs": [],
   "source": [
    "marine_model.visualize(show_inputs=True)"
   ]
  },
  {
   "cell_type": "markdown",
   "metadata": {},
   "source": [
    "## Model setup"
   ]
  },
  {
   "cell_type": "code",
   "execution_count": null,
   "metadata": {},
   "outputs": [],
   "source": [
    "in_ds = xs.create_setup(\n",
    "    model=marine_model,\n",
    "    clocks={\n",
    "        'time': np.arange(0, 4e6 + 1e3, 1e3),\n",
    "        'out': np.arange(0, 4e6 + 2e5, 2e5),\n",
    "    },\n",
    "    master_clock='time',\n",
    "    input_vars={\n",
    "        'grid__shape': [101, 101],\n",
    "        'grid__length': [4e5, 4e5],\n",
    "        'boundary__status': ['fixed_value', 'core', 'looped', 'looped'],\n",
    "        'init_topography': {\n",
    "            'x_left': 0,\n",
    "            'x_right': 2.5e5,\n",
    "            'elevation_left': -1e3,\n",
    "            'elevation_right': 0.\n",
    "        },\n",
    "        'uplift': {\n",
    "            'x_position': 2.5e5,\n",
    "            'rate_left': 0.,\n",
    "            'rate_right': 3e-4\n",
    "        },\n",
    "        'flow__slope_exp': 1.,\n",
    "        'spl': {\n",
    "            'k_coef_bedrock': 1e-5,\n",
    "            'k_coef_soil': 1e-5,\n",
    "            'g_coef_bedrock': 1.,\n",
    "            'g_coef_soil': 1.,\n",
    "        },\n",
    "        'diffusion': {\n",
    "            'diffusivity_bedrock': 1e-2,\n",
    "            'diffusivity_soil': 1e-2\n",
    "        },\n",
    "        'marine': {\n",
    "            'ss_ratio_land': 0.5,\n",
    "            'porosity_sand': 0.,\n",
    "            'porosity_silt': 0.,\n",
    "            'e_depth_sand': 1e3,\n",
    "            'e_depth_silt': 1e3,\n",
    "            'diffusivity_sand': 5e2,\n",
    "            'diffusivity_silt': 2.5e2,\n",
    "            'layer_depth': 1e2,\n",
    "        },\n",
    "        'strati': {\n",
    "            'freeze_time': ('horizon', np.linspace(0, 4e6, 5))\n",
    "        }\n",
    "    },\n",
    "    output_vars={\n",
    "        'topography__elevation': 'out',\n",
    "        'strati__elevation': 'out',\n",
    "        'marine__ss_ratio_sea': 'out',\n",
    "    }\n",
    ")\n",
    "\n",
    "in_ds"
   ]
  },
  {
   "cell_type": "markdown",
   "metadata": {},
   "source": [
    "## Run the model"
   ]
  },
  {
   "cell_type": "code",
   "execution_count": null,
   "metadata": {},
   "outputs": [],
   "source": [
    "with xs.monitoring.ProgressBar():\n",
    "    out_ds = in_ds.xsimlab.run(model=marine_model)"
   ]
  },
  {
   "cell_type": "code",
   "execution_count": null,
   "metadata": {},
   "outputs": [],
   "source": [
    "out_ds"
   ]
  },
  {
   "cell_type": "markdown",
   "metadata": {},
   "source": [
    "## Plot the outputs (topography and stratigraphic horizons)"
   ]
  },
  {
   "cell_type": "code",
   "execution_count": null,
   "metadata": {},
   "outputs": [],
   "source": [
    "import hvplot.xarray\n",
    "import holoviews as hv\n",
    "from xshade import hillshade\n",
    "\n",
    "\n",
    "ss_ratio_plot = out_ds.marine__ss_ratio_sea.hvplot.image(\n",
    "    x='x', y='y', clim=(0, 1),\n",
    "    width=550, height=450,\n",
    "    cmap='viridis_r', groupby='out'\n",
    ")\n",
    "\n",
    "hillshade_plot = hillshade(out_ds, 'out').hvplot.image(\n",
    "    x='x', y='y', cmap='gray', alpha=0.5,\n",
    "    colorbar=False, hover=False, groupby='out'\n",
    ")\n",
    "\n",
    "yhorizons_plot = out_ds.strati__elevation.sel(y=2e5).hvplot.line(\n",
    "    by='horizon', groupby='out', ylim=(-1000, 1000),\n",
    "    width=550, legend='bottom_right',\n",
    ")\n",
    "\n",
    "hv.Layout((ss_ratio_plot * hillshade_plot) + yhorizons_plot).cols(1)"
   ]
  },
  {
   "cell_type": "code",
   "execution_count": null,
   "metadata": {},
   "outputs": [],
   "source": []
  }
 ],
 "metadata": {
  "kernelspec": {
   "display_name": "Python [conda env:fastscape-demo]",
   "language": "python",
   "name": "conda-env-fastscape-demo-py"
  },
  "language_info": {
   "codemirror_mode": {
    "name": "ipython",
    "version": 3
   },
   "file_extension": ".py",
   "mimetype": "text/x-python",
   "name": "python",
   "nbconvert_exporter": "python",
   "pygments_lexer": "ipython3",
   "version": "3.7.6"
  }
 },
 "nbformat": 4,
 "nbformat_minor": 4
}
