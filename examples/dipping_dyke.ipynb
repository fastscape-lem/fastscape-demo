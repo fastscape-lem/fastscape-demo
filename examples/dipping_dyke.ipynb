{
 "cells": [
  {
   "cell_type": "markdown",
   "metadata": {},
   "source": [
    "# Differential erosion through a dipping dyke\n",
    "\n",
    "This notebook reproduces the [dipping dyke example](https://fastscape-lem.github.io/fastscapelib-fortran/#_dippingdyke_f90) provided in the fastscapelib-fortran library. It shows how to create custom processes for modelling differential erosion due to some structural (e.g., rock strengh) heterogeneity."
   ]
  },
  {
   "cell_type": "code",
   "execution_count": null,
   "metadata": {},
   "outputs": [],
   "source": [
    "import numpy as np\n",
    "import xsimlab as xs\n",
    "import matplotlib.pyplot as plt\n",
    "import fastscape\n",
    "\n",
    "%matplotlib inline"
   ]
  },
  {
   "cell_type": "code",
   "execution_count": null,
   "metadata": {},
   "outputs": [],
   "source": [
    "print('xarray-simlab version: ', xs.__version__)\n",
    "print('fastscape version: ', fastscape.__version__)"
   ]
  },
  {
   "cell_type": "markdown",
   "metadata": {},
   "source": [
    "## Import and inspect the model\n",
    "\n",
    "We use the basic model available in [fastscape](https://fastscape.readthedocs.io/en/latest/)."
   ]
  },
  {
   "cell_type": "code",
   "execution_count": null,
   "metadata": {},
   "outputs": [],
   "source": [
    "from fastscape.models import basic_model"
   ]
  },
  {
   "cell_type": "markdown",
   "metadata": {},
   "source": [
    "Let's create a new process class to model the effect of the dyke on the efficiency of erosion processes."
   ]
  },
  {
   "cell_type": "code",
   "execution_count": null,
   "metadata": {},
   "outputs": [],
   "source": [
    "from fastscape.processes import (LinearDiffusion, StreamPowerChannel,\n",
    "                                 TotalErosion, UniformRectilinearGrid2D)\n",
    "\n",
    "\n",
    "@xs.process\n",
    "class DippingDyke:\n",
    "    \"\"\"Mimics the effect on erosion rates of a dyke dipping at\n",
    "    a given angle, that is buried beneath the landscape and that is\n",
    "    progressively exhumed by erosion.\n",
    "    \n",
    "    \"\"\"\n",
    "    x_position = xs.variable(description='initial x-position of exposed dyke')\n",
    "    width = xs.variable(description='dyke fixed width')\n",
    "    angle = xs.variable(description='dyke dipping angle in degrees')\n",
    "    \n",
    "    grid_shape = xs.foreign(UniformRectilinearGrid2D, 'shape')\n",
    "    x = xs.foreign(UniformRectilinearGrid2D, 'x')\n",
    "    \n",
    "    etot = xs.foreign(TotalErosion, 'cumulative_height')\n",
    "    \n",
    "    k_coef = xs.foreign(StreamPowerChannel, 'k_coef', intent='out')\n",
    "    diffusivity = xs.foreign(LinearDiffusion, 'diffusivity', intent='out')\n",
    "    \n",
    "    def run_step(self):\n",
    "        cotg = 1. / np.tan(np.radians(self.angle))\n",
    "        \n",
    "        dyke_pos = self.x - self.x_position - self.etot * cotg\n",
    "        \n",
    "        in_dyke = (dyke_pos - self.width) * (dyke_pos + self.width) <= 0\n",
    "        \n",
    "        self.k_coef = np.where(in_dyke, 1e-5, 2e-5)\n",
    "        self.diffusivity = np.where(in_dyke, 0.05, 0.1)\n"
   ]
  },
  {
   "cell_type": "code",
   "execution_count": null,
   "metadata": {},
   "outputs": [],
   "source": [
    "model = basic_model.update_processes({'dyke': DippingDyke})\n",
    "\n",
    "model"
   ]
  },
  {
   "cell_type": "code",
   "execution_count": null,
   "metadata": {},
   "outputs": [],
   "source": [
    "model.visualize(show_inputs=True)"
   ]
  },
  {
   "cell_type": "markdown",
   "metadata": {},
   "source": [
    "## Model setup\n",
    "\n",
    "**Note**: One important difference between this model and the example shown in the fastscapelib-fortran library is that linear diffusion is here computed using the same topographic surface than the one used for computing stream power channel erosion. In fastscapelib-fortran, diffusion is always computed after applying channel erosion on the topographic surface, which makes it more \"tolerant\" to large time steps.\n",
    "\n",
    "While it is possible to customize `basic_model` to mimic the behavior of fastscapelib-fortran (e.g., by replacing the diffusion process by another (sub)class), we keep the \"apply-combine\" approach here for erosion processes for more flexibility. Even if those processes are applied sequentially, setting large time steps has a significant impact on the solution as the latter is is only partially implicit (when considering the processes all together)."
   ]
  },
  {
   "cell_type": "code",
   "execution_count": null,
   "metadata": {},
   "outputs": [],
   "source": [
    "in_ds = xs.create_setup(\n",
    "    model=model,\n",
    "    clocks={\n",
    "        'time': np.arange(0, 4e7 + 2e4, 4e4),\n",
    "        'out': np.arange(0, 4e7 + 4e5, 4e5),\n",
    "    },\n",
    "    master_clock='time',\n",
    "    input_vars={\n",
    "        'grid__shape': ('shape_yx', [201, 201]),\n",
    "        'grid__length': ('shape_yx', [1e5, 1e5]),\n",
    "        'boundary__status': ('border', ['fixed_value', 'fixed_value', 'fixed_value', 'fixed_value']),\n",
    "        'dyke': {\n",
    "            'x_position': 1e4,\n",
    "            'width': 2e3,\n",
    "            'angle': 30.\n",
    "        },\n",
    "        'uplift__rate': 1e-3,\n",
    "        'spl': {\n",
    "            'area_exp': 0.4,\n",
    "            'slope_exp': 1.\n",
    "        }\n",
    "    },\n",
    "    output_vars={\n",
    "        'out': ['topography__elevation',\n",
    "                'terrain__slope'],\n",
    "        None: ['boundary__border',\n",
    "               'grid__x',\n",
    "               'grid__y',\n",
    "               'grid__spacing'],\n",
    "    }\n",
    ")\n",
    "\n",
    "in_ds"
   ]
  },
  {
   "cell_type": "markdown",
   "metadata": {},
   "source": [
    "## Run the model\n",
    "\n",
    "This should take 20-30 seconds to run."
   ]
  },
  {
   "cell_type": "code",
   "execution_count": null,
   "metadata": {},
   "outputs": [],
   "source": [
    "out_ds = (in_ds.xsimlab.run(model=model)\n",
    "               .set_index(x='grid__x', y='grid__y',\n",
    "                          border='boundary__border'))"
   ]
  },
  {
   "cell_type": "code",
   "execution_count": null,
   "metadata": {},
   "outputs": [],
   "source": [
    "out_ds"
   ]
  },
  {
   "cell_type": "markdown",
   "metadata": {},
   "source": [
    "## Plot the outputs\n",
    "\n",
    "Plot the local topographic gradient (slope) and the swath profile of elevations averaged along the y-axis."
   ]
  },
  {
   "cell_type": "code",
   "execution_count": null,
   "metadata": {},
   "outputs": [],
   "source": [
    "import hvplot.xarray\n",
    "import holoviews as hv\n",
    "from xshade import hillshade\n",
    "\n",
    "\n",
    "slope_plot = out_ds.terrain__slope.hvplot.image(\n",
    "    x='x', y='y', clim=(0., 40.),\n",
    "    width=550, height=450,\n",
    "    cmap=plt.cm.plasma, groupby='out'\n",
    ")\n",
    "\n",
    "hillshade_plot = hillshade(out_ds, 'out').hvplot.image(\n",
    "    x='x', y='y', cmap=plt.cm.gray, alpha=0.6,\n",
    "    colorbar=False, hover=False, groupby='out'\n",
    ")\n",
    "\n",
    "profile_plot = out_ds.topography__elevation.mean('y').hvplot.line(\n",
    "    width=550, height=250, ylim=(0, 2000),\n",
    "    groupby='out', legend='top_left',\n",
    ")\n",
    "\n",
    "hv.Layout((slope_plot * hillshade_plot) + profile_plot).cols(1)"
   ]
  },
  {
   "cell_type": "code",
   "execution_count": null,
   "metadata": {},
   "outputs": [],
   "source": []
  }
 ],
 "metadata": {
  "kernelspec": {
   "display_name": "Python [conda env:fastscape_dev]",
   "language": "python",
   "name": "conda-env-fastscape_dev-py"
  },
  "language_info": {
   "codemirror_mode": {
    "name": "ipython",
    "version": 3
   },
   "file_extension": ".py",
   "mimetype": "text/x-python",
   "name": "python",
   "nbconvert_exporter": "python",
   "pygments_lexer": "ipython3",
   "version": "3.7.3"
  }
 },
 "nbformat": 4,
 "nbformat_minor": 4
}
